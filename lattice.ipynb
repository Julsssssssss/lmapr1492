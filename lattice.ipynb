{
 "cells": [
  {
   "cell_type": "code",
   "execution_count": 5,
   "id": "117f0b58",
   "metadata": {},
   "outputs": [],
   "source": [
    "from pymatgen.ext.matproj import MPRester\n",
    "from pymatgen.symmetry.analyzer import SpacegroupAnalyzer\n",
    "with MPRester(\"HPRMToUrA4F7voa8\") as m:\n",
    "    structure = m.get_structure_by_material_id(\"mp-961649\")"
   ]
  },
  {
   "cell_type": "code",
   "execution_count": 6,
   "id": "485f4987",
   "metadata": {},
   "outputs": [],
   "source": [
    "structure.to(filename=\"ZrFeTe.cif\")"
   ]
  },
  {
   "cell_type": "code",
   "execution_count": 8,
   "id": "875043aa",
   "metadata": {},
   "outputs": [
    {
     "name": "stdout",
     "output_type": "stream",
     "text": [
      "Vecteur de base du réseau direct : a = 4.329555424235611, b = 4.329555424235611, c = 4.329555424235611\n",
      "Vecteur de base du réseau réciproque : a = 0.2828800538124118, b = 0.2828800538124118, c = 0.2828800538124118\n",
      "Type de maille : cubic\n",
      "Système cristallin : cubic\n",
      "Groupe ponctuel : -43m\n"
     ]
    }
   ],
   "source": [
    "lattice = structure.lattice\n",
    "\n",
    "#Vecteur de base du réseau direct\n",
    "a = lattice.a\n",
    "b = lattice.b\n",
    "c = lattice.c\n",
    "print(\"Vecteur de base du réseau direct : a = {}, b = {}, c = {}\".format(a, b,c))\n",
    "\n",
    "#Vecteur de base du réseau réciproque\n",
    "a_rec = lattice.reciprocal_lattice_crystallographic.a\n",
    "b_rec = lattice.reciprocal_lattice_crystallographic.b\n",
    "c_rec = lattice.reciprocal_lattice_crystallographic.c\n",
    "print(\"Vecteur de base du réseau réciproque : a = {}, b = {}, c = {}\".format(a_rec, b_rec,c_rec))\n",
    "\n",
    "\n",
    "sga = SpacegroupAnalyzer(structure)\n",
    "\n",
    "#Type de maille\n",
    "m = sga.get_lattice_type()\n",
    "print(\"Type de maille :\", m)\n",
    "\n",
    "#Système cristallin\n",
    "s = sga.get_crystal_system()\n",
    "print(\"Système cristallin :\", s)\n",
    "\n",
    "#Groupe ponctuel\n",
    "gp = sga.get_point_group_symbol()\n",
    "print(\"Groupe ponctuel :\", gp)"
   ]
  },
  {
   "cell_type": "code",
   "execution_count": null,
   "id": "a1cb3a13",
   "metadata": {},
   "outputs": [],
   "source": []
  }
 ],
 "metadata": {
  "kernelspec": {
   "display_name": "Python 3",
   "language": "python",
   "name": "python3"
  },
  "language_info": {
   "codemirror_mode": {
    "name": "ipython",
    "version": 3
   },
   "file_extension": ".py",
   "mimetype": "text/x-python",
   "name": "python",
   "nbconvert_exporter": "python",
   "pygments_lexer": "ipython3",
   "version": "3.6.8"
  }
 },
 "nbformat": 4,
 "nbformat_minor": 5
}
