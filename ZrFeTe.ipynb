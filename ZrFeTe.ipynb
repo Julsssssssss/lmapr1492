{
 "cells": [
  {
   "cell_type": "code",
   "execution_count": 6,
   "id": "8a686bc7",
   "metadata": {},
   "outputs": [],
   "source": [
    "from pymatgen.ext.matproj import MPRester\n",
    "with MPRester(\"HPRMToUrA4F7voa8\") as m:\n",
    "    structure = m.get_structure_by_material_id(\"mp-961649\")"
   ]
  },
  {
   "cell_type": "code",
   "execution_count": 7,
   "id": "ebcb189e",
   "metadata": {},
   "outputs": [],
   "source": [
    "structure.to(filename=\"ZrFeTe.cif\")"
   ]
  },
  {
   "cell_type": "code",
   "execution_count": null,
   "id": "1448733b",
   "metadata": {},
   "outputs": [],
   "source": []
  }
 ],
 "metadata": {
  "kernelspec": {
   "display_name": "Python 3",
   "language": "python",
   "name": "python3"
  },
  "language_info": {
   "codemirror_mode": {
    "name": "ipython",
    "version": 3
   },
   "file_extension": ".py",
   "mimetype": "text/x-python",
   "name": "python",
   "nbconvert_exporter": "python",
   "pygments_lexer": "ipython3",
   "version": "3.6.8"
  }
 },
 "nbformat": 4,
 "nbformat_minor": 5
}
